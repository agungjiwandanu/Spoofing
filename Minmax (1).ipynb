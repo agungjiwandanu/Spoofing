{
 "cells": [
  {
   "cell_type": "code",
   "execution_count": 1,
   "metadata": {
    "colab": {
     "base_uri": "https://localhost:8080/"
    },
    "executionInfo": {
     "elapsed": 2999,
     "status": "ok",
     "timestamp": 1661589175817,
     "user": {
      "displayName": "Agung Jiwandanu",
      "userId": "01956992934336623191"
     },
     "user_tz": -420
    },
    "id": "bn5gilPsn7z0",
    "outputId": "0043010c-f024-4b65-91bb-a245ee3239e4"
   },
   "outputs": [
    {
     "name": "stderr",
     "output_type": "stream",
     "text": [
      "UsageError: Line magic function `%tensorflow_version` not found.\n"
     ]
    }
   ],
   "source": [
    "%tensorflow_version 2.x\n",
    "import tensorflow as tf\n",
    "device_name = tf.test.gpu_device_name()\n",
    "\n",
    "print('Found GPU at: {}'.format(device_name))"
   ]
  },
  {
   "cell_type": "code",
   "execution_count": 121,
   "metadata": {
    "colab": {
     "base_uri": "https://localhost:8080/"
    },
    "executionInfo": {
     "elapsed": 301,
     "status": "ok",
     "timestamp": 1661589249849,
     "user": {
      "displayName": "Agung Jiwandanu",
      "userId": "01956992934336623191"
     },
     "user_tz": -420
    },
    "id": "3cBpZDa4rLeL",
    "outputId": "5a6ee1f1-f999-4da5-def9-4543a1ec4458"
   },
   "outputs": [
    {
     "name": "stdout",
     "output_type": "stream",
     "text": [
      "C:\\Users: ['All Users', 'bayui', 'Default', 'Default User', 'desktop.ini', 'Public']\n",
      "C:\\Users\\bayui: ['.android', '.bash_history', '.borland', '.conda', '.condarc', '.config', '.eclipse', '.gitconfig', '.idlerc', '.ipynb_checkpoints', '.ipython', '.jupyter', '.keras', '.labelImgSettings.pkl', '.labelmerc', '.LINE', '.m2', '.matplotlib', '.nbi', '.p2', '.packettracer', '.pencil', '.QtWebEngineProcess', '.spyder-py3', '.tooling', '.VirtualBox', '.vscode', '09011281924032_BAYU IZZAH SALAM_SK 3 A _UTS.ipynb', '3D Objects', 'Anaconda3', 'Angga.ipynb', 'ansel', 'AppData', 'Application Data', 'archive.zip', 'audio.wav', 'audio1.wav', 'Bayu Izzah Salam_Image_Tugas Visualisasi.ipynb', 'BayuIzzahSalam_Tugas1.ipynb', 'BullseyeCoverageError.txt', 'Cisco Packet Tracer 7.3.0', 'Code_Project_Zainudin_09011181924004.ipynb', 'Contacts', 'Cookies', 'Copy_of_projekAI.ipynb', 'Creative Cloud Files', 'data11.ipynb', 'Data_Visualization_.ipynb', 'Desktop', 'Documents', 'Downloads', 'drawings', 'eclipse', 'EX02-121TEETH.csv', 'EX02-173TITANIC.csv', 'Exploratory Data Analysis.ipynb', 'Favorites', 'FilmScrapping.ipynb', 'FilmScrappingResult.csv', 'full.csv', 'FuzzyLogic.ipynb', 'GamingCompanies-Main.csv', 'GNS3', 'heart.csv', 'IdeaProjects', 'IntelGraphicsProfiles', 'jokowi.csv', 'Kode_Bayu Izzah Salam_0911281924032.ipynb', 'LatihanPython.ipynb', 'Links', 'Local Settings', 'Marketing_Campaign_Data_A-21492758-f47a-4913-971e-68c9a721311a.csv', 'metpen.ipynb', 'MicrosoftEdgeBackups', 'Minmax.ipynb', 'MNIST_CNN_Bayu Izzah Salam_09011281924032.ipynb', 'Music', 'My Documents', 'NetHood', 'New document 1.2021_11_19_11_05_09.0.svg', 'NTUSER.DAT', 'ntuser.dat.LOG1', 'ntuser.dat.LOG2', 'NTUSER.DAT{1c2b59c6-c5f5-11eb-bacb-000d3a96488e}.TM.blf', 'NTUSER.DAT{1c2b59c6-c5f5-11eb-bacb-000d3a96488e}.TMContainer00000000000000000001.regtrans-ms', 'NTUSER.DAT{1c2b59c6-c5f5-11eb-bacb-000d3a96488e}.TMContainer00000000000000000002.regtrans-ms', 'ntuser.ini', 'Numpy.ipynb', 'OneDrive', 'Pandas.ipynb', 'ParticleSwarmOptimizationKelompok9.ipynb', 'Pictures', 'Plotting.ipynb', 'PrintHood', 'PycharmProjects', 'Recent', 'Regression-Manual.ipynb', 'Regression.ipynb', 'regwizard.log', 'Salary.csv', 'sanct.log', 'Saved Games', 'ScrappingWikipedia.ipynb', 'Searches', 'SendTo', 'SignalProcessing.ipynb', 'sound.wav', 'source', 'spiral', 'Start Menu', 'Supermart Grocery Sales - Retail Analytics Dataset.csv', 'swarm v2.ipynb', 'Swarn test.ipynb', 'task3_virtual internship home credit.ipynb', 'Templates', 'tes.csv.xlsx', 'tesscrap', 'tesscrap.csv', 'Tugas Besar_Kelompok 6_ Program.ipynb', 'Tugas2_BayuIzzahSalam.ipynb', 'Tugas3_BayuIzzahSalam.ipynb', 'tugas4.ipynb', 'two way table.ipynb', 'two way table1.ipynb', 'Untitled.ipynb', 'untitled.txt', 'Untitled1.ipynb', 'Untitled2.ipynb', 'Untitled3.ipynb', 'Untitled4.ipynb', 'UTS_KecerdasanBuatan.ipynb', 'vgsales.csv', 'Videos', 'VirtualBox VMs', 'wave', 'wikiLatihan.csv']\n"
     ]
    }
   ],
   "source": [
    "import numpy as np\n",
    "import pandas as pd\n",
    "import math\n",
    "import sklearn\n",
    "import seaborn as sns\n",
    "import sklearn.preprocessing\n",
    "import datetime\n",
    "import os\n",
    "import matplotlib.pyplot as plt\n",
    "import tensorflow as tf\n",
    "\n",
    "# split data in 80%/10%/10% train/validation/test sets\n",
    "valid_set_size_percentage = 10 \n",
    "test_set_size_percentage = 10 \n",
    "\n",
    "#display parent directory and working directory\n",
    "print(os.path.dirname(os.getcwd())+':', os.listdir(os.path.dirname(os.getcwd())));\n",
    "print(os.getcwd()+':', os.listdir(os.getcwd()));"
   ]
  },
  {
   "cell_type": "code",
   "execution_count": 194,
   "metadata": {},
   "outputs": [],
   "source": [
    "df=pd.read_csv('Supermart Grocery Sales - Retail Analytics Dataset.csv')"
   ]
  },
  {
   "cell_type": "code",
   "execution_count": 195,
   "metadata": {
    "colab": {
     "base_uri": "https://localhost:8080/",
     "height": 237
    },
    "executionInfo": {
     "elapsed": 580,
     "status": "ok",
     "timestamp": 1661590944586,
     "user": {
      "displayName": "Agung Jiwandanu",
      "userId": "01956992934336623191"
     },
     "user_tz": -420
    },
    "id": "rGuM6SG_yZip",
    "outputId": "ce8f9b80-475d-4b26-c723-f93d870629d4"
   },
   "outputs": [
    {
     "data": {
      "text/html": [
       "<div>\n",
       "<style scoped>\n",
       "    .dataframe tbody tr th:only-of-type {\n",
       "        vertical-align: middle;\n",
       "    }\n",
       "\n",
       "    .dataframe tbody tr th {\n",
       "        vertical-align: top;\n",
       "    }\n",
       "\n",
       "    .dataframe thead th {\n",
       "        text-align: right;\n",
       "    }\n",
       "</style>\n",
       "<table border=\"1\" class=\"dataframe\">\n",
       "  <thead>\n",
       "    <tr style=\"text-align: right;\">\n",
       "      <th></th>\n",
       "      <th>Order ID</th>\n",
       "      <th>Customer Name</th>\n",
       "      <th>Category</th>\n",
       "      <th>Sub Category</th>\n",
       "      <th>City</th>\n",
       "      <th>Order Date</th>\n",
       "      <th>Region</th>\n",
       "      <th>Sales</th>\n",
       "      <th>Discount</th>\n",
       "      <th>Profit</th>\n",
       "      <th>State</th>\n",
       "    </tr>\n",
       "  </thead>\n",
       "  <tbody>\n",
       "    <tr>\n",
       "      <th>9989</th>\n",
       "      <td>OD9990</td>\n",
       "      <td>Sudeep</td>\n",
       "      <td>Eggs, Meat &amp; Fish</td>\n",
       "      <td>Eggs</td>\n",
       "      <td>Madurai</td>\n",
       "      <td>12/24/2015</td>\n",
       "      <td>West</td>\n",
       "      <td>945</td>\n",
       "      <td>0.16</td>\n",
       "      <td>359.10</td>\n",
       "      <td>Tamil Nadu</td>\n",
       "    </tr>\n",
       "    <tr>\n",
       "      <th>9990</th>\n",
       "      <td>OD9991</td>\n",
       "      <td>Alan</td>\n",
       "      <td>Bakery</td>\n",
       "      <td>Biscuits</td>\n",
       "      <td>Kanyakumari</td>\n",
       "      <td>07-12-2015</td>\n",
       "      <td>West</td>\n",
       "      <td>1195</td>\n",
       "      <td>0.26</td>\n",
       "      <td>71.70</td>\n",
       "      <td>Tamil Nadu</td>\n",
       "    </tr>\n",
       "    <tr>\n",
       "      <th>9991</th>\n",
       "      <td>OD9992</td>\n",
       "      <td>Ravi</td>\n",
       "      <td>Food Grains</td>\n",
       "      <td>Rice</td>\n",
       "      <td>Bodi</td>\n",
       "      <td>06-06-2017</td>\n",
       "      <td>West</td>\n",
       "      <td>1567</td>\n",
       "      <td>0.16</td>\n",
       "      <td>501.44</td>\n",
       "      <td>Tamil Nadu</td>\n",
       "    </tr>\n",
       "    <tr>\n",
       "      <th>9992</th>\n",
       "      <td>OD9993</td>\n",
       "      <td>Peer</td>\n",
       "      <td>Oil &amp; Masala</td>\n",
       "      <td>Spices</td>\n",
       "      <td>Pudukottai</td>\n",
       "      <td>10/16/2018</td>\n",
       "      <td>West</td>\n",
       "      <td>1659</td>\n",
       "      <td>0.15</td>\n",
       "      <td>597.24</td>\n",
       "      <td>Tamil Nadu</td>\n",
       "    </tr>\n",
       "    <tr>\n",
       "      <th>9993</th>\n",
       "      <td>OD9994</td>\n",
       "      <td>Ganesh</td>\n",
       "      <td>Food Grains</td>\n",
       "      <td>Atta &amp; Flour</td>\n",
       "      <td>Tirunelveli</td>\n",
       "      <td>4/17/2018</td>\n",
       "      <td>West</td>\n",
       "      <td>1034</td>\n",
       "      <td>0.28</td>\n",
       "      <td>165.44</td>\n",
       "      <td>Tamil Nadu</td>\n",
       "    </tr>\n",
       "  </tbody>\n",
       "</table>\n",
       "</div>"
      ],
      "text/plain": [
       "     Order ID Customer Name           Category  Sub Category         City  \\\n",
       "9989   OD9990        Sudeep  Eggs, Meat & Fish          Eggs      Madurai   \n",
       "9990   OD9991          Alan             Bakery      Biscuits  Kanyakumari   \n",
       "9991   OD9992          Ravi        Food Grains          Rice         Bodi   \n",
       "9992   OD9993          Peer       Oil & Masala        Spices   Pudukottai   \n",
       "9993   OD9994        Ganesh        Food Grains  Atta & Flour  Tirunelveli   \n",
       "\n",
       "      Order Date Region  Sales  Discount  Profit       State  \n",
       "9989  12/24/2015   West    945      0.16  359.10  Tamil Nadu  \n",
       "9990  07-12-2015   West   1195      0.26   71.70  Tamil Nadu  \n",
       "9991  06-06-2017   West   1567      0.16  501.44  Tamil Nadu  \n",
       "9992  10/16/2018   West   1659      0.15  597.24  Tamil Nadu  \n",
       "9993   4/17/2018   West   1034      0.28  165.44  Tamil Nadu  "
      ]
     },
     "execution_count": 195,
     "metadata": {},
     "output_type": "execute_result"
    }
   ],
   "source": [
    "df.tail()"
   ]
  },
  {
   "cell_type": "code",
   "execution_count": 196,
   "metadata": {},
   "outputs": [
    {
     "data": {
      "text/plain": [
       "array(['Tamil Nadu'], dtype=object)"
      ]
     },
     "execution_count": 196,
     "metadata": {},
     "output_type": "execute_result"
    }
   ],
   "source": [
    "df.State.unique()"
   ]
  },
  {
   "cell_type": "code",
   "execution_count": 197,
   "metadata": {},
   "outputs": [
    {
     "data": {
      "text/plain": [
       "24"
      ]
     },
     "execution_count": 197,
     "metadata": {},
     "output_type": "execute_result"
    }
   ],
   "source": [
    "df.City.nunique()"
   ]
  },
  {
   "cell_type": "code",
   "execution_count": 198,
   "metadata": {},
   "outputs": [
    {
     "data": {
      "text/html": [
       "<div>\n",
       "<style scoped>\n",
       "    .dataframe tbody tr th:only-of-type {\n",
       "        vertical-align: middle;\n",
       "    }\n",
       "\n",
       "    .dataframe tbody tr th {\n",
       "        vertical-align: top;\n",
       "    }\n",
       "\n",
       "    .dataframe thead th {\n",
       "        text-align: right;\n",
       "    }\n",
       "</style>\n",
       "<table border=\"1\" class=\"dataframe\">\n",
       "  <thead>\n",
       "    <tr style=\"text-align: right;\">\n",
       "      <th></th>\n",
       "      <th>Order ID</th>\n",
       "      <th>Customer Name</th>\n",
       "      <th>Category</th>\n",
       "      <th>Sub Category</th>\n",
       "      <th>City</th>\n",
       "      <th>Order Date</th>\n",
       "      <th>Region</th>\n",
       "      <th>Sales</th>\n",
       "      <th>Discount</th>\n",
       "      <th>Profit</th>\n",
       "      <th>State</th>\n",
       "    </tr>\n",
       "  </thead>\n",
       "  <tbody>\n",
       "    <tr>\n",
       "      <th>0</th>\n",
       "      <td>OD1</td>\n",
       "      <td>Harish</td>\n",
       "      <td>Oil &amp; Masala</td>\n",
       "      <td>Masalas</td>\n",
       "      <td>Vellore</td>\n",
       "      <td>11-08-2017</td>\n",
       "      <td>North</td>\n",
       "      <td>1254</td>\n",
       "      <td>0.12</td>\n",
       "      <td>401.28</td>\n",
       "      <td>Tamil Nadu</td>\n",
       "    </tr>\n",
       "    <tr>\n",
       "      <th>1</th>\n",
       "      <td>OD2</td>\n",
       "      <td>Sudha</td>\n",
       "      <td>Beverages</td>\n",
       "      <td>Health Drinks</td>\n",
       "      <td>Krishnagiri</td>\n",
       "      <td>11-08-2017</td>\n",
       "      <td>South</td>\n",
       "      <td>749</td>\n",
       "      <td>0.18</td>\n",
       "      <td>149.80</td>\n",
       "      <td>Tamil Nadu</td>\n",
       "    </tr>\n",
       "    <tr>\n",
       "      <th>2</th>\n",
       "      <td>OD3</td>\n",
       "      <td>Hussain</td>\n",
       "      <td>Food Grains</td>\n",
       "      <td>Atta &amp; Flour</td>\n",
       "      <td>Perambalur</td>\n",
       "      <td>06-12-2017</td>\n",
       "      <td>West</td>\n",
       "      <td>2360</td>\n",
       "      <td>0.21</td>\n",
       "      <td>165.20</td>\n",
       "      <td>Tamil Nadu</td>\n",
       "    </tr>\n",
       "    <tr>\n",
       "      <th>3</th>\n",
       "      <td>OD4</td>\n",
       "      <td>Jackson</td>\n",
       "      <td>Fruits &amp; Veggies</td>\n",
       "      <td>Fresh Vegetables</td>\n",
       "      <td>Dharmapuri</td>\n",
       "      <td>10-11-2016</td>\n",
       "      <td>South</td>\n",
       "      <td>896</td>\n",
       "      <td>0.25</td>\n",
       "      <td>89.60</td>\n",
       "      <td>Tamil Nadu</td>\n",
       "    </tr>\n",
       "    <tr>\n",
       "      <th>4</th>\n",
       "      <td>OD5</td>\n",
       "      <td>Ridhesh</td>\n",
       "      <td>Food Grains</td>\n",
       "      <td>Organic Staples</td>\n",
       "      <td>Ooty</td>\n",
       "      <td>10-11-2016</td>\n",
       "      <td>South</td>\n",
       "      <td>2355</td>\n",
       "      <td>0.26</td>\n",
       "      <td>918.45</td>\n",
       "      <td>Tamil Nadu</td>\n",
       "    </tr>\n",
       "    <tr>\n",
       "      <th>...</th>\n",
       "      <td>...</td>\n",
       "      <td>...</td>\n",
       "      <td>...</td>\n",
       "      <td>...</td>\n",
       "      <td>...</td>\n",
       "      <td>...</td>\n",
       "      <td>...</td>\n",
       "      <td>...</td>\n",
       "      <td>...</td>\n",
       "      <td>...</td>\n",
       "      <td>...</td>\n",
       "    </tr>\n",
       "    <tr>\n",
       "      <th>9989</th>\n",
       "      <td>OD9990</td>\n",
       "      <td>Sudeep</td>\n",
       "      <td>Eggs, Meat &amp; Fish</td>\n",
       "      <td>Eggs</td>\n",
       "      <td>Madurai</td>\n",
       "      <td>12/24/2015</td>\n",
       "      <td>West</td>\n",
       "      <td>945</td>\n",
       "      <td>0.16</td>\n",
       "      <td>359.10</td>\n",
       "      <td>Tamil Nadu</td>\n",
       "    </tr>\n",
       "    <tr>\n",
       "      <th>9990</th>\n",
       "      <td>OD9991</td>\n",
       "      <td>Alan</td>\n",
       "      <td>Bakery</td>\n",
       "      <td>Biscuits</td>\n",
       "      <td>Kanyakumari</td>\n",
       "      <td>07-12-2015</td>\n",
       "      <td>West</td>\n",
       "      <td>1195</td>\n",
       "      <td>0.26</td>\n",
       "      <td>71.70</td>\n",
       "      <td>Tamil Nadu</td>\n",
       "    </tr>\n",
       "    <tr>\n",
       "      <th>9991</th>\n",
       "      <td>OD9992</td>\n",
       "      <td>Ravi</td>\n",
       "      <td>Food Grains</td>\n",
       "      <td>Rice</td>\n",
       "      <td>Bodi</td>\n",
       "      <td>06-06-2017</td>\n",
       "      <td>West</td>\n",
       "      <td>1567</td>\n",
       "      <td>0.16</td>\n",
       "      <td>501.44</td>\n",
       "      <td>Tamil Nadu</td>\n",
       "    </tr>\n",
       "    <tr>\n",
       "      <th>9992</th>\n",
       "      <td>OD9993</td>\n",
       "      <td>Peer</td>\n",
       "      <td>Oil &amp; Masala</td>\n",
       "      <td>Spices</td>\n",
       "      <td>Pudukottai</td>\n",
       "      <td>10/16/2018</td>\n",
       "      <td>West</td>\n",
       "      <td>1659</td>\n",
       "      <td>0.15</td>\n",
       "      <td>597.24</td>\n",
       "      <td>Tamil Nadu</td>\n",
       "    </tr>\n",
       "    <tr>\n",
       "      <th>9993</th>\n",
       "      <td>OD9994</td>\n",
       "      <td>Ganesh</td>\n",
       "      <td>Food Grains</td>\n",
       "      <td>Atta &amp; Flour</td>\n",
       "      <td>Tirunelveli</td>\n",
       "      <td>4/17/2018</td>\n",
       "      <td>West</td>\n",
       "      <td>1034</td>\n",
       "      <td>0.28</td>\n",
       "      <td>165.44</td>\n",
       "      <td>Tamil Nadu</td>\n",
       "    </tr>\n",
       "  </tbody>\n",
       "</table>\n",
       "<p>9994 rows × 11 columns</p>\n",
       "</div>"
      ],
      "text/plain": [
       "     Order ID Customer Name           Category      Sub Category         City  \\\n",
       "0         OD1        Harish       Oil & Masala           Masalas      Vellore   \n",
       "1         OD2         Sudha          Beverages     Health Drinks  Krishnagiri   \n",
       "2         OD3       Hussain        Food Grains      Atta & Flour   Perambalur   \n",
       "3         OD4       Jackson   Fruits & Veggies  Fresh Vegetables   Dharmapuri   \n",
       "4         OD5       Ridhesh        Food Grains   Organic Staples         Ooty   \n",
       "...       ...           ...                ...               ...          ...   \n",
       "9989   OD9990        Sudeep  Eggs, Meat & Fish              Eggs      Madurai   \n",
       "9990   OD9991          Alan             Bakery          Biscuits  Kanyakumari   \n",
       "9991   OD9992          Ravi        Food Grains              Rice         Bodi   \n",
       "9992   OD9993          Peer       Oil & Masala            Spices   Pudukottai   \n",
       "9993   OD9994        Ganesh        Food Grains      Atta & Flour  Tirunelveli   \n",
       "\n",
       "      Order Date Region  Sales  Discount  Profit       State  \n",
       "0     11-08-2017  North   1254      0.12  401.28  Tamil Nadu  \n",
       "1     11-08-2017  South    749      0.18  149.80  Tamil Nadu  \n",
       "2     06-12-2017   West   2360      0.21  165.20  Tamil Nadu  \n",
       "3     10-11-2016  South    896      0.25   89.60  Tamil Nadu  \n",
       "4     10-11-2016  South   2355      0.26  918.45  Tamil Nadu  \n",
       "...          ...    ...    ...       ...     ...         ...  \n",
       "9989  12/24/2015   West    945      0.16  359.10  Tamil Nadu  \n",
       "9990  07-12-2015   West   1195      0.26   71.70  Tamil Nadu  \n",
       "9991  06-06-2017   West   1567      0.16  501.44  Tamil Nadu  \n",
       "9992  10/16/2018   West   1659      0.15  597.24  Tamil Nadu  \n",
       "9993   4/17/2018   West   1034      0.28  165.44  Tamil Nadu  \n",
       "\n",
       "[9994 rows x 11 columns]"
      ]
     },
     "execution_count": 198,
     "metadata": {},
     "output_type": "execute_result"
    }
   ],
   "source": [
    "df"
   ]
  },
  {
   "cell_type": "code",
   "execution_count": 199,
   "metadata": {},
   "outputs": [
    {
     "data": {
      "image/png": "[encoded data removed]",
      "text/plain": [
       "<Figure size 1080x360 with 2 Axes>"
      ]
     },
     "metadata": {
      "needs_background": "light"
     },
     "output_type": "display_data"
    }
   ],
   "source": [
    "plt.figure(figsize=(15, 5));\n",
    "plt.subplot(1,2,1);\n",
    "plt.plot(df[df.Region == 'West'].Discount.values, color='red', label='Discount')\n",
    "plt.plot(df[df.Region == 'West'].Profit.values, color='green', label='Profit')\n",
    "plt.plot(df[df.Region == 'West'].Sales.values, color='blue', label='Sales')\n",
    "plt.plot(df[df.Region == 'West'].Sales.values, color='black', label='Sales')\n",
    "plt.title('Region')\n",
    "plt.xlabel('Count')\n",
    "plt.ylabel('x')\n",
    "plt.legend(loc='best')\n",
    "#plt.show()\n",
    "\n",
    "plt.subplot(1,2,2);\n",
    "plt.plot(df[df.Region == 'West'].Sales.values, color='black', label='Sales')\n",
    "plt.title('stock volume')\n",
    "plt.xlabel('time [days]')\n",
    "plt.ylabel('volume')\n",
    "plt.legend(loc='best');"
   ]
  },
  {
   "cell_type": "code",
   "execution_count": 200,
   "metadata": {},
   "outputs": [
    {
     "data": {
      "text/plain": [
       "Text(0.5, 1.0, 'Profit Percentage per Category')"
      ]
     },
     "execution_count": 200,
     "metadata": {},
     "output_type": "execute_result"
    },
    {
     "data": {
      "image/png": "[encoded data removed]",
      "text/plain": [
       "<Figure size 432x288 with 1 Axes>"
      ]
     },
     "metadata": {
      "needs_background": "light"
     },
     "output_type": "display_data"
    }
   ],
   "source": [
    "df.groupby(\"Category\").mean()[\"Profit\"].plot(kind='barh')\n",
    "plt.title(\"Profit Percentage per Category\")"
   ]
  },
  {
   "cell_type": "code",
   "execution_count": 201,
   "metadata": {},
   "outputs": [
    {
     "data": {
      "text/plain": [
       "Text(0.5, 1.0, 'Avg Sales/Profit based on Region')"
      ]
     },
     "execution_count": 201,
     "metadata": {},
     "output_type": "execute_result"
    },
    {
     "data": {
      "image/png": "[encoded data removed]",
      "text/plain": [
       "<Figure size 432x288 with 1 Axes>"
      ]
     },
     "metadata": {
      "needs_background": "light"
     },
     "output_type": "display_data"
    }
   ],
   "source": [
    "df.groupby(\"Region\")[[\"Sales\", \"Profit\"]].mean().plot(kind=\"barh\")\n",
    "plt.title(\"Avg Sales/Profit based on Region\")"
   ]
  },
  {
   "cell_type": "code",
   "execution_count": 202,
   "metadata": {},
   "outputs": [
    {
     "data": {
      "text/plain": [
       "<matplotlib.axes._subplots.AxesSubplot at 0x20081573ac0>"
      ]
     },
     "execution_count": 202,
     "metadata": {},
     "output_type": "execute_result"
    },
    {
     "data": {
      "image/png": "[encoded data removed]",
      "text/plain": [
       "<Figure size 432x288 with 1 Axes>"
      ]
     },
     "metadata": {
      "needs_background": "light"
     },
     "output_type": "display_data"
    }
   ],
   "source": [
    "df.groupby(\"Region\")[\"Sales\"].sum().plot(kind=\"barh\")"
   ]
  },
  {
   "cell_type": "code",
   "execution_count": 203,
   "metadata": {},
   "outputs": [
    {
     "data": {
      "text/plain": [
       "<matplotlib.axes._subplots.AxesSubplot at 0x200815c0b20>"
      ]
     },
     "execution_count": 203,
     "metadata": {},
     "output_type": "execute_result"
    },
    {
     "data": {
      "image/png": "[encoded data removed]",
      "text/plain": [
       "<Figure size 432x288 with 1 Axes>"
      ]
     },
     "metadata": {
      "needs_background": "light"
     },
     "output_type": "display_data"
    }
   ],
   "source": [
    "sns.boxplot(df.Region, df.Sales)"
   ]
  },
  {
   "cell_type": "code",
   "execution_count": 204,
   "metadata": {},
   "outputs": [
    {
     "data": {
      "text/plain": [
       "Text(0.5, 1.0, 'Profit/ Sales over the time based on cities')"
      ]
     },
     "execution_count": 204,
     "metadata": {},
     "output_type": "execute_result"
    },
    {
     "data": {
      "image/png": "[encoded data removed]",
      "text/plain": [
       "<Figure size 432x288 with 1 Axes>"
      ]
     },
     "metadata": {
      "needs_background": "light"
     },
     "output_type": "display_data"
    }
   ],
   "source": [
    "df.groupby(\"City\")[[\"Sales\", \"Profit\"]].sum().sort_values(by=\"Profit\",ascending=False).head().plot(kind=\"bar\")  \n",
    "plt.title(\"Profit/ Sales over the time based on cities\")"
   ]
  },
  {
   "cell_type": "code",
   "execution_count": 205,
   "metadata": {},
   "outputs": [
    {
     "data": {
      "text/plain": [
       "Text(0.5, 1.0, 'Avg Profit/Sales based on cities')"
      ]
     },
     "execution_count": 205,
     "metadata": {},
     "output_type": "execute_result"
    },
    {
     "data": {
      "image/png": "[encoded data removed]",
      "text/plain": [
       "<Figure size 432x288 with 1 Axes>"
      ]
     },
     "metadata": {
      "needs_background": "light"
     },
     "output_type": "display_data"
    }
   ],
   "source": [
    "df.groupby(\"City\")[[\"Sales\", \"Profit\"]].mean().sort_values(by=\"Profit\",ascending=True).head().plot(kind=\"bar\")\n",
    "plt.title(\"Avg Profit/Sales based on cities\")"
   ]
  },
  {
   "cell_type": "code",
   "execution_count": 206,
   "metadata": {},
   "outputs": [],
   "source": [
    "df[\"Order Date\"] = pd.to_datetime(df[\"Order Date\"])"
   ]
  },
  {
   "cell_type": "code",
   "execution_count": 207,
   "metadata": {},
   "outputs": [],
   "source": [
    "df[\"Year\"] = df[\"Order Date\"].dt.year"
   ]
  },
  {
   "cell_type": "code",
   "execution_count": 208,
   "metadata": {},
   "outputs": [
    {
     "data": {
      "text/plain": [
       "Text(0.5, 1.0, 'Profit by Years')"
      ]
     },
     "execution_count": 208,
     "metadata": {},
     "output_type": "execute_result"
    },
    {
     "data": {
      "image/png": "[encoded data removed]",
      "text/plain": [
       "<Figure size 432x288 with 1 Axes>"
      ]
     },
     "metadata": {
      "needs_background": "light"
     },
     "output_type": "display_data"
    }
   ],
   "source": [
    "plt.plot(df.groupby(\"Year\")[\"Profit\"].mean())\n",
    "plt.xlabel(\"Year\")\n",
    "plt.ylabel(\"Profit\")\n",
    "plt.title(\"Profit by Years\")"
   ]
  },
  {
   "cell_type": "code",
   "execution_count": 209,
   "metadata": {},
   "outputs": [
    {
     "data": {
      "text/plain": [
       "<matplotlib.axes._subplots.AxesSubplot at 0x200817c24c0>"
      ]
     },
     "execution_count": 209,
     "metadata": {},
     "output_type": "execute_result"
    },
    {
     "data": {
      "image/png": "[encoded data removed]",
      "text/plain": [
       "<Figure size 432x288 with 1 Axes>"
      ]
     },
     "metadata": {
      "needs_background": "light"
     },
     "output_type": "display_data"
    }
   ],
   "source": [
    "df.groupby(\"Year\")[\"Sales\"].count().plot(kind=\"bar\")"
   ]
  },
  {
   "cell_type": "code",
   "execution_count": 210,
   "metadata": {},
   "outputs": [
    {
     "data": {
      "text/plain": [
       "Customer Name\n",
       "Amrish      227\n",
       "Krithika    224\n",
       "Arutra      218\n",
       "Verma       218\n",
       "Vidya       215\n",
       "Shah        215\n",
       "Suresh      212\n",
       "Surya       209\n",
       "Harish      208\n",
       "Hussain     208\n",
       "Name: Year, dtype: int64"
      ]
     },
     "execution_count": 210,
     "metadata": {},
     "output_type": "execute_result"
    }
   ],
   "source": [
    "df.groupby(\"Customer Name\")[\"Year\"].count().sort_values(ascending=False).head(10)"
   ]
  },
  {
   "cell_type": "code",
   "execution_count": 211,
   "metadata": {},
   "outputs": [
    {
     "data": {
      "text/plain": [
       "Text(0.5, 1.0, \"Top 3 Customer's contribution\")"
      ]
     },
     "execution_count": 211,
     "metadata": {},
     "output_type": "execute_result"
    },
    {
     "data": {
      "image/png": "[encoded data removed]",
      "text/plain": [
       "<Figure size 432x288 with 1 Axes>"
      ]
     },
     "metadata": {
      "needs_background": "light"
     },
     "output_type": "display_data"
    }
   ],
   "source": [
    "df.groupby(\"Customer Name\")[[\"Sales\", \"Profit\"]].sum().sort_values(by=\"Profit\",ascending=False).head(3).plot(kind=\"barh\").plot(kind=\"barh\")\n",
    "plt.title(\"Top 3 Customer's contribution\")"
   ]
  },
  {
   "cell_type": "code",
   "execution_count": 212,
   "metadata": {},
   "outputs": [
    {
     "data": {
      "text/plain": [
       "Text(0.5, 1.0, 'Cities with most sales over the time.')"
      ]
     },
     "execution_count": 212,
     "metadata": {},
     "output_type": "execute_result"
    },
    {
     "data": {
      "image/png": "[encoded data removed]",
      "text/plain": [
       "<Figure size 432x288 with 1 Axes>"
      ]
     },
     "metadata": {
      "needs_background": "light"
     },
     "output_type": "display_data"
    }
   ],
   "source": [
    "df.groupby(\"City\")[\"Sales\"].sum().sort_values(ascending=False).head(5).plot(kind=\"bar\")\n",
    "plt.title(\"Cities with most sales over the time.\")"
   ]
  },
  {
   "cell_type": "code",
   "execution_count": 213,
   "metadata": {},
   "outputs": [
    {
     "data": {
      "text/plain": [
       "Text(0.5, 1.0, 'Cities with highest avg Sales')"
      ]
     },
     "execution_count": 213,
     "metadata": {},
     "output_type": "execute_result"
    },
    {
     "data": {
      "image/png": "[encoded data removed]",
      "text/plain": [
       "<Figure size 432x288 with 1 Axes>"
      ]
     },
     "metadata": {
      "needs_background": "light"
     },
     "output_type": "display_data"
    }
   ],
   "source": [
    "df.groupby(\"City\")[\"Sales\"].mean().sort_values(ascending=False).head(5).plot(kind=\"bar\")\n",
    "plt.title(\"Cities with highest avg Sales\")"
   ]
  },
  {
   "cell_type": "code",
   "execution_count": 214,
   "metadata": {},
   "outputs": [
    {
     "data": {
      "text/plain": [
       "Text(0.5, 1.0, 'Cities with lowest avg Profit')"
      ]
     },
     "execution_count": 214,
     "metadata": {},
     "output_type": "execute_result"
    },
    {
     "data": {
      "image/png": "[encoded data removed]",
      "text/plain": [
       "<Figure size 432x288 with 1 Axes>"
      ]
     },
     "metadata": {
      "needs_background": "light"
     },
     "output_type": "display_data"
    }
   ],
   "source": [
    "df.groupby(\"City\")[\"Profit\"].mean().sort_values(ascending=True).head(5).plot(kind=\"bar\")\n",
    "plt.title(\"Cities with lowest avg Profit\")"
   ]
  },
  {
   "cell_type": "code",
   "execution_count": 215,
   "metadata": {},
   "outputs": [
    {
     "data": {
      "text/plain": [
       "Text(0.5, 1.0, 'Profit by Category')"
      ]
     },
     "execution_count": 215,
     "metadata": {},
     "output_type": "execute_result"
    },
    {
     "data": {
      "image/png": "[encoded data removed]",
      "text/plain": [
       "<Figure size 432x288 with 1 Axes>"
      ]
     },
     "metadata": {
      "needs_background": "light"
     },
     "output_type": "display_data"
    }
   ],
   "source": [
    "df.groupby(\"Category\")[\"Profit\"].sum().sort_values(ascending=False).plot(kind=\"barh\")\n",
    "plt.title(\"Profit by Category\")"
   ]
  },
  {
   "cell_type": "code",
   "execution_count": 216,
   "metadata": {},
   "outputs": [
    {
     "data": {
      "text/plain": [
       "Text(0.5, 1.0, 'Discounts on categories')"
      ]
     },
     "execution_count": 216,
     "metadata": {},
     "output_type": "execute_result"
    },
    {
     "data": {
      "image/png": "[encoded data removed]",
      "text/plain": [
       "<Figure size 432x288 with 1 Axes>"
      ]
     },
     "metadata": {
      "needs_background": "light"
     },
     "output_type": "display_data"
    }
   ],
   "source": [
    "df.groupby(\"Category\")[\"Discount\"].mean().sort_values(ascending=False).plot(kind=\"barh\")\n",
    "plt.tight_layout()\n",
    "plt.title(\"Discounts on categories\")"
   ]
  },
  {
   "cell_type": "code",
   "execution_count": 217,
   "metadata": {},
   "outputs": [
    {
     "data": {
      "text/plain": [
       "Category\n",
       "Oil & Masala         365.830485\n",
       "Bakery               374.041798\n",
       "Fruits & Veggies     374.048223\n",
       "Snacks               375.283256\n",
       "Beverages            375.432686\n",
       "Food Grains          378.514049\n",
       "Eggs, Meat & Fish    380.776658\n",
       "Name: Profit, dtype: float64"
      ]
     },
     "execution_count": 217,
     "metadata": {},
     "output_type": "execute_result"
    }
   ],
   "source": [
    "df.groupby(\"Category\")[\"Profit\"].mean().sort_values(ascending=True)"
   ]
  },
  {
   "cell_type": "code",
   "execution_count": 218,
   "metadata": {},
   "outputs": [],
   "source": [
    "df = df.drop(columns=['Order ID', 'Order Date'], axis=1)"
   ]
  },
  {
   "cell_type": "code",
   "execution_count": 219,
   "metadata": {},
   "outputs": [
    {
     "data": {
      "text/html": [
       "<div>\n",
       "<style scoped>\n",
       "    .dataframe tbody tr th:only-of-type {\n",
       "        vertical-align: middle;\n",
       "    }\n",
       "\n",
       "    .dataframe tbody tr th {\n",
       "        vertical-align: top;\n",
       "    }\n",
       "\n",
       "    .dataframe thead th {\n",
       "        text-align: right;\n",
       "    }\n",
       "</style>\n",
       "<table border=\"1\" class=\"dataframe\">\n",
       "  <thead>\n",
       "    <tr style=\"text-align: right;\">\n",
       "      <th></th>\n",
       "      <th>Sales</th>\n",
       "      <th>Discount</th>\n",
       "      <th>Profit</th>\n",
       "      <th>Year</th>\n",
       "      <th>Customer Name_Adavan</th>\n",
       "      <th>Customer Name_Aditi</th>\n",
       "      <th>Customer Name_Akash</th>\n",
       "      <th>Customer Name_Alan</th>\n",
       "      <th>Customer Name_Amrish</th>\n",
       "      <th>Customer Name_Amy</th>\n",
       "      <th>...</th>\n",
       "      <th>City_Trichy</th>\n",
       "      <th>City_Vellore</th>\n",
       "      <th>City_Viluppuram</th>\n",
       "      <th>City_Virudhunagar</th>\n",
       "      <th>Region_Central</th>\n",
       "      <th>Region_East</th>\n",
       "      <th>Region_North</th>\n",
       "      <th>Region_South</th>\n",
       "      <th>Region_West</th>\n",
       "      <th>State_Tamil Nadu</th>\n",
       "    </tr>\n",
       "  </thead>\n",
       "  <tbody>\n",
       "    <tr>\n",
       "      <th>0</th>\n",
       "      <td>1254</td>\n",
       "      <td>0.12</td>\n",
       "      <td>401.28</td>\n",
       "      <td>2017</td>\n",
       "      <td>0</td>\n",
       "      <td>0</td>\n",
       "      <td>0</td>\n",
       "      <td>0</td>\n",
       "      <td>0</td>\n",
       "      <td>0</td>\n",
       "      <td>...</td>\n",
       "      <td>0</td>\n",
       "      <td>1</td>\n",
       "      <td>0</td>\n",
       "      <td>0</td>\n",
       "      <td>0</td>\n",
       "      <td>0</td>\n",
       "      <td>1</td>\n",
       "      <td>0</td>\n",
       "      <td>0</td>\n",
       "      <td>1</td>\n",
       "    </tr>\n",
       "    <tr>\n",
       "      <th>1</th>\n",
       "      <td>749</td>\n",
       "      <td>0.18</td>\n",
       "      <td>149.80</td>\n",
       "      <td>2017</td>\n",
       "      <td>0</td>\n",
       "      <td>0</td>\n",
       "      <td>0</td>\n",
       "      <td>0</td>\n",
       "      <td>0</td>\n",
       "      <td>0</td>\n",
       "      <td>...</td>\n",
       "      <td>0</td>\n",
       "      <td>0</td>\n",
       "      <td>0</td>\n",
       "      <td>0</td>\n",
       "      <td>0</td>\n",
       "      <td>0</td>\n",
       "      <td>0</td>\n",
       "      <td>1</td>\n",
       "      <td>0</td>\n",
       "      <td>1</td>\n",
       "    </tr>\n",
       "    <tr>\n",
       "      <th>2</th>\n",
       "      <td>2360</td>\n",
       "      <td>0.21</td>\n",
       "      <td>165.20</td>\n",
       "      <td>2017</td>\n",
       "      <td>0</td>\n",
       "      <td>0</td>\n",
       "      <td>0</td>\n",
       "      <td>0</td>\n",
       "      <td>0</td>\n",
       "      <td>0</td>\n",
       "      <td>...</td>\n",
       "      <td>0</td>\n",
       "      <td>0</td>\n",
       "      <td>0</td>\n",
       "      <td>0</td>\n",
       "      <td>0</td>\n",
       "      <td>0</td>\n",
       "      <td>0</td>\n",
       "      <td>0</td>\n",
       "      <td>1</td>\n",
       "      <td>1</td>\n",
       "    </tr>\n",
       "    <tr>\n",
       "      <th>3</th>\n",
       "      <td>896</td>\n",
       "      <td>0.25</td>\n",
       "      <td>89.60</td>\n",
       "      <td>2016</td>\n",
       "      <td>0</td>\n",
       "      <td>0</td>\n",
       "      <td>0</td>\n",
       "      <td>0</td>\n",
       "      <td>0</td>\n",
       "      <td>0</td>\n",
       "      <td>...</td>\n",
       "      <td>0</td>\n",
       "      <td>0</td>\n",
       "      <td>0</td>\n",
       "      <td>0</td>\n",
       "      <td>0</td>\n",
       "      <td>0</td>\n",
       "      <td>0</td>\n",
       "      <td>1</td>\n",
       "      <td>0</td>\n",
       "      <td>1</td>\n",
       "    </tr>\n",
       "    <tr>\n",
       "      <th>4</th>\n",
       "      <td>2355</td>\n",
       "      <td>0.26</td>\n",
       "      <td>918.45</td>\n",
       "      <td>2016</td>\n",
       "      <td>0</td>\n",
       "      <td>0</td>\n",
       "      <td>0</td>\n",
       "      <td>0</td>\n",
       "      <td>0</td>\n",
       "      <td>0</td>\n",
       "      <td>...</td>\n",
       "      <td>0</td>\n",
       "      <td>0</td>\n",
       "      <td>0</td>\n",
       "      <td>0</td>\n",
       "      <td>0</td>\n",
       "      <td>0</td>\n",
       "      <td>0</td>\n",
       "      <td>1</td>\n",
       "      <td>0</td>\n",
       "      <td>1</td>\n",
       "    </tr>\n",
       "    <tr>\n",
       "      <th>...</th>\n",
       "      <td>...</td>\n",
       "      <td>...</td>\n",
       "      <td>...</td>\n",
       "      <td>...</td>\n",
       "      <td>...</td>\n",
       "      <td>...</td>\n",
       "      <td>...</td>\n",
       "      <td>...</td>\n",
       "      <td>...</td>\n",
       "      <td>...</td>\n",
       "      <td>...</td>\n",
       "      <td>...</td>\n",
       "      <td>...</td>\n",
       "      <td>...</td>\n",
       "      <td>...</td>\n",
       "      <td>...</td>\n",
       "      <td>...</td>\n",
       "      <td>...</td>\n",
       "      <td>...</td>\n",
       "      <td>...</td>\n",
       "      <td>...</td>\n",
       "    </tr>\n",
       "    <tr>\n",
       "      <th>9989</th>\n",
       "      <td>945</td>\n",
       "      <td>0.16</td>\n",
       "      <td>359.10</td>\n",
       "      <td>2015</td>\n",
       "      <td>0</td>\n",
       "      <td>0</td>\n",
       "      <td>0</td>\n",
       "      <td>0</td>\n",
       "      <td>0</td>\n",
       "      <td>0</td>\n",
       "      <td>...</td>\n",
       "      <td>0</td>\n",
       "      <td>0</td>\n",
       "      <td>0</td>\n",
       "      <td>0</td>\n",
       "      <td>0</td>\n",
       "      <td>0</td>\n",
       "      <td>0</td>\n",
       "      <td>0</td>\n",
       "      <td>1</td>\n",
       "      <td>1</td>\n",
       "    </tr>\n",
       "    <tr>\n",
       "      <th>9990</th>\n",
       "      <td>1195</td>\n",
       "      <td>0.26</td>\n",
       "      <td>71.70</td>\n",
       "      <td>2015</td>\n",
       "      <td>0</td>\n",
       "      <td>0</td>\n",
       "      <td>0</td>\n",
       "      <td>1</td>\n",
       "      <td>0</td>\n",
       "      <td>0</td>\n",
       "      <td>...</td>\n",
       "      <td>0</td>\n",
       "      <td>0</td>\n",
       "      <td>0</td>\n",
       "      <td>0</td>\n",
       "      <td>0</td>\n",
       "      <td>0</td>\n",
       "      <td>0</td>\n",
       "      <td>0</td>\n",
       "      <td>1</td>\n",
       "      <td>1</td>\n",
       "    </tr>\n",
       "    <tr>\n",
       "      <th>9991</th>\n",
       "      <td>1567</td>\n",
       "      <td>0.16</td>\n",
       "      <td>501.44</td>\n",
       "      <td>2017</td>\n",
       "      <td>0</td>\n",
       "      <td>0</td>\n",
       "      <td>0</td>\n",
       "      <td>0</td>\n",
       "      <td>0</td>\n",
       "      <td>0</td>\n",
       "      <td>...</td>\n",
       "      <td>0</td>\n",
       "      <td>0</td>\n",
       "      <td>0</td>\n",
       "      <td>0</td>\n",
       "      <td>0</td>\n",
       "      <td>0</td>\n",
       "      <td>0</td>\n",
       "      <td>0</td>\n",
       "      <td>1</td>\n",
       "      <td>1</td>\n",
       "    </tr>\n",
       "    <tr>\n",
       "      <th>9992</th>\n",
       "      <td>1659</td>\n",
       "      <td>0.15</td>\n",
       "      <td>597.24</td>\n",
       "      <td>2018</td>\n",
       "      <td>0</td>\n",
       "      <td>0</td>\n",
       "      <td>0</td>\n",
       "      <td>0</td>\n",
       "      <td>0</td>\n",
       "      <td>0</td>\n",
       "      <td>...</td>\n",
       "      <td>0</td>\n",
       "      <td>0</td>\n",
       "      <td>0</td>\n",
       "      <td>0</td>\n",
       "      <td>0</td>\n",
       "      <td>0</td>\n",
       "      <td>0</td>\n",
       "      <td>0</td>\n",
       "      <td>1</td>\n",
       "      <td>1</td>\n",
       "    </tr>\n",
       "    <tr>\n",
       "      <th>9993</th>\n",
       "      <td>1034</td>\n",
       "      <td>0.28</td>\n",
       "      <td>165.44</td>\n",
       "      <td>2018</td>\n",
       "      <td>0</td>\n",
       "      <td>0</td>\n",
       "      <td>0</td>\n",
       "      <td>0</td>\n",
       "      <td>0</td>\n",
       "      <td>0</td>\n",
       "      <td>...</td>\n",
       "      <td>0</td>\n",
       "      <td>0</td>\n",
       "      <td>0</td>\n",
       "      <td>0</td>\n",
       "      <td>0</td>\n",
       "      <td>0</td>\n",
       "      <td>0</td>\n",
       "      <td>0</td>\n",
       "      <td>1</td>\n",
       "      <td>1</td>\n",
       "    </tr>\n",
       "  </tbody>\n",
       "</table>\n",
       "<p>9994 rows × 114 columns</p>\n",
       "</div>"
      ],
      "text/plain": [
       "      Sales  Discount  Profit  Year  Customer Name_Adavan  \\\n",
       "0      1254      0.12  401.28  2017                     0   \n",
       "1       749      0.18  149.80  2017                     0   \n",
       "2      2360      0.21  165.20  2017                     0   \n",
       "3       896      0.25   89.60  2016                     0   \n",
       "4      2355      0.26  918.45  2016                     0   \n",
       "...     ...       ...     ...   ...                   ...   \n",
       "9989    945      0.16  359.10  2015                     0   \n",
       "9990   1195      0.26   71.70  2015                     0   \n",
       "9991   1567      0.16  501.44  2017                     0   \n",
       "9992   1659      0.15  597.24  2018                     0   \n",
       "9993   1034      0.28  165.44  2018                     0   \n",
       "\n",
       "      Customer Name_Aditi  Customer Name_Akash  Customer Name_Alan  \\\n",
       "0                       0                    0                   0   \n",
       "1                       0                    0                   0   \n",
       "2                       0                    0                   0   \n",
       "3                       0                    0                   0   \n",
       "4                       0                    0                   0   \n",
       "...                   ...                  ...                 ...   \n",
       "9989                    0                    0                   0   \n",
       "9990                    0                    0                   1   \n",
       "9991                    0                    0                   0   \n",
       "9992                    0                    0                   0   \n",
       "9993                    0                    0                   0   \n",
       "\n",
       "      Customer Name_Amrish  Customer Name_Amy  ...  City_Trichy  City_Vellore  \\\n",
       "0                        0                  0  ...            0             1   \n",
       "1                        0                  0  ...            0             0   \n",
       "2                        0                  0  ...            0             0   \n",
       "3                        0                  0  ...            0             0   \n",
       "4                        0                  0  ...            0             0   \n",
       "...                    ...                ...  ...          ...           ...   \n",
       "9989                     0                  0  ...            0             0   \n",
       "9990                     0                  0  ...            0             0   \n",
       "9991                     0                  0  ...            0             0   \n",
       "9992                     0                  0  ...            0             0   \n",
       "9993                     0                  0  ...            0             0   \n",
       "\n",
       "      City_Viluppuram  City_Virudhunagar  Region_Central  Region_East  \\\n",
       "0                   0                  0               0            0   \n",
       "1                   0                  0               0            0   \n",
       "2                   0                  0               0            0   \n",
       "3                   0                  0               0            0   \n",
       "4                   0                  0               0            0   \n",
       "...               ...                ...             ...          ...   \n",
       "9989                0                  0               0            0   \n",
       "9990                0                  0               0            0   \n",
       "9991                0                  0               0            0   \n",
       "9992                0                  0               0            0   \n",
       "9993                0                  0               0            0   \n",
       "\n",
       "      Region_North  Region_South  Region_West  State_Tamil Nadu  \n",
       "0                1             0            0                 1  \n",
       "1                0             1            0                 1  \n",
       "2                0             0            1                 1  \n",
       "3                0             1            0                 1  \n",
       "4                0             1            0                 1  \n",
       "...            ...           ...          ...               ...  \n",
       "9989             0             0            1                 1  \n",
       "9990             0             0            1                 1  \n",
       "9991             0             0            1                 1  \n",
       "9992             0             0            1                 1  \n",
       "9993             0             0            1                 1  \n",
       "\n",
       "[9994 rows x 114 columns]"
      ]
     },
     "execution_count": 219,
     "metadata": {},
     "output_type": "execute_result"
    }
   ],
   "source": [
    "df = pd.get_dummies(df)\n",
    "df"
   ]
  },
  {
   "cell_type": "code",
   "execution_count": 220,
   "metadata": {
    "colab": {
     "base_uri": "https://localhost:8080/",
     "height": 300
    },
    "executionInfo": {
     "elapsed": 536,
     "status": "ok",
     "timestamp": 1661590947806,
     "user": {
      "displayName": "Agung Jiwandanu",
      "userId": "01956992934336623191"
     },
     "user_tz": -420
    },
    "id": "91U5KKISyelm",
    "outputId": "10902cad-001d-46a7-8b61-612bddf21ebd",
    "scrolled": true
   },
   "outputs": [
    {
     "data": {
      "text/html": [
       "<div>\n",
       "<style scoped>\n",
       "    .dataframe tbody tr th:only-of-type {\n",
       "        vertical-align: middle;\n",
       "    }\n",
       "\n",
       "    .dataframe tbody tr th {\n",
       "        vertical-align: top;\n",
       "    }\n",
       "\n",
       "    .dataframe thead th {\n",
       "        text-align: right;\n",
       "    }\n",
       "</style>\n",
       "<table border=\"1\" class=\"dataframe\">\n",
       "  <thead>\n",
       "    <tr style=\"text-align: right;\">\n",
       "      <th></th>\n",
       "      <th>Sales</th>\n",
       "      <th>Discount</th>\n",
       "      <th>Profit</th>\n",
       "      <th>Year</th>\n",
       "      <th>Customer Name_Adavan</th>\n",
       "      <th>Customer Name_Aditi</th>\n",
       "      <th>Customer Name_Akash</th>\n",
       "      <th>Customer Name_Alan</th>\n",
       "      <th>Customer Name_Amrish</th>\n",
       "      <th>Customer Name_Amy</th>\n",
       "      <th>...</th>\n",
       "      <th>City_Trichy</th>\n",
       "      <th>City_Vellore</th>\n",
       "      <th>City_Viluppuram</th>\n",
       "      <th>City_Virudhunagar</th>\n",
       "      <th>Region_Central</th>\n",
       "      <th>Region_East</th>\n",
       "      <th>Region_North</th>\n",
       "      <th>Region_South</th>\n",
       "      <th>Region_West</th>\n",
       "      <th>State_Tamil Nadu</th>\n",
       "    </tr>\n",
       "  </thead>\n",
       "  <tbody>\n",
       "    <tr>\n",
       "      <th>count</th>\n",
       "      <td>9994.000000</td>\n",
       "      <td>9994.000000</td>\n",
       "      <td>9994.000000</td>\n",
       "      <td>9994.000000</td>\n",
       "      <td>9994.000000</td>\n",
       "      <td>9994.000000</td>\n",
       "      <td>9994.000000</td>\n",
       "      <td>9994.000000</td>\n",
       "      <td>9994.000000</td>\n",
       "      <td>9994.000000</td>\n",
       "      <td>...</td>\n",
       "      <td>9994.000000</td>\n",
       "      <td>9994.000000</td>\n",
       "      <td>9994.000000</td>\n",
       "      <td>9994.000000</td>\n",
       "      <td>9994.000000</td>\n",
       "      <td>9994.000000</td>\n",
       "      <td>9994.000000</td>\n",
       "      <td>9994.000000</td>\n",
       "      <td>9994.000000</td>\n",
       "      <td>9994.0</td>\n",
       "    </tr>\n",
       "    <tr>\n",
       "      <th>mean</th>\n",
       "      <td>1496.596158</td>\n",
       "      <td>0.226817</td>\n",
       "      <td>374.937082</td>\n",
       "      <td>2016.722233</td>\n",
       "      <td>0.020512</td>\n",
       "      <td>0.018711</td>\n",
       "      <td>0.019612</td>\n",
       "      <td>0.019812</td>\n",
       "      <td>0.022714</td>\n",
       "      <td>0.019612</td>\n",
       "      <td>...</td>\n",
       "      <td>0.035721</td>\n",
       "      <td>0.043526</td>\n",
       "      <td>0.039724</td>\n",
       "      <td>0.041625</td>\n",
       "      <td>0.232439</td>\n",
       "      <td>0.284971</td>\n",
       "      <td>0.000100</td>\n",
       "      <td>0.161997</td>\n",
       "      <td>0.320492</td>\n",
       "      <td>1.0</td>\n",
       "    </tr>\n",
       "    <tr>\n",
       "      <th>std</th>\n",
       "      <td>577.559036</td>\n",
       "      <td>0.074636</td>\n",
       "      <td>239.932881</td>\n",
       "      <td>1.123555</td>\n",
       "      <td>0.141752</td>\n",
       "      <td>0.135510</td>\n",
       "      <td>0.138669</td>\n",
       "      <td>0.139360</td>\n",
       "      <td>0.148996</td>\n",
       "      <td>0.138669</td>\n",
       "      <td>...</td>\n",
       "      <td>0.185604</td>\n",
       "      <td>0.204048</td>\n",
       "      <td>0.195319</td>\n",
       "      <td>0.199741</td>\n",
       "      <td>0.422409</td>\n",
       "      <td>0.451423</td>\n",
       "      <td>0.010003</td>\n",
       "      <td>0.368467</td>\n",
       "      <td>0.466689</td>\n",
       "      <td>0.0</td>\n",
       "    </tr>\n",
       "    <tr>\n",
       "      <th>min</th>\n",
       "      <td>500.000000</td>\n",
       "      <td>0.100000</td>\n",
       "      <td>25.250000</td>\n",
       "      <td>2015.000000</td>\n",
       "      <td>0.000000</td>\n",
       "      <td>0.000000</td>\n",
       "      <td>0.000000</td>\n",
       "      <td>0.000000</td>\n",
       "      <td>0.000000</td>\n",
       "      <td>0.000000</td>\n",
       "      <td>...</td>\n",
       "      <td>0.000000</td>\n",
       "      <td>0.000000</td>\n",
       "      <td>0.000000</td>\n",
       "      <td>0.000000</td>\n",
       "      <td>0.000000</td>\n",
       "      <td>0.000000</td>\n",
       "      <td>0.000000</td>\n",
       "      <td>0.000000</td>\n",
       "      <td>0.000000</td>\n",
       "      <td>1.0</td>\n",
       "    </tr>\n",
       "    <tr>\n",
       "      <th>25%</th>\n",
       "      <td>1000.000000</td>\n",
       "      <td>0.160000</td>\n",
       "      <td>180.022500</td>\n",
       "      <td>2016.000000</td>\n",
       "      <td>0.000000</td>\n",
       "      <td>0.000000</td>\n",
       "      <td>0.000000</td>\n",
       "      <td>0.000000</td>\n",
       "      <td>0.000000</td>\n",
       "      <td>0.000000</td>\n",
       "      <td>...</td>\n",
       "      <td>0.000000</td>\n",
       "      <td>0.000000</td>\n",
       "      <td>0.000000</td>\n",
       "      <td>0.000000</td>\n",
       "      <td>0.000000</td>\n",
       "      <td>0.000000</td>\n",
       "      <td>0.000000</td>\n",
       "      <td>0.000000</td>\n",
       "      <td>0.000000</td>\n",
       "      <td>1.0</td>\n",
       "    </tr>\n",
       "    <tr>\n",
       "      <th>50%</th>\n",
       "      <td>1498.000000</td>\n",
       "      <td>0.230000</td>\n",
       "      <td>320.780000</td>\n",
       "      <td>2017.000000</td>\n",
       "      <td>0.000000</td>\n",
       "      <td>0.000000</td>\n",
       "      <td>0.000000</td>\n",
       "      <td>0.000000</td>\n",
       "      <td>0.000000</td>\n",
       "      <td>0.000000</td>\n",
       "      <td>...</td>\n",
       "      <td>0.000000</td>\n",
       "      <td>0.000000</td>\n",
       "      <td>0.000000</td>\n",
       "      <td>0.000000</td>\n",
       "      <td>0.000000</td>\n",
       "      <td>0.000000</td>\n",
       "      <td>0.000000</td>\n",
       "      <td>0.000000</td>\n",
       "      <td>0.000000</td>\n",
       "      <td>1.0</td>\n",
       "    </tr>\n",
       "    <tr>\n",
       "      <th>75%</th>\n",
       "      <td>1994.750000</td>\n",
       "      <td>0.290000</td>\n",
       "      <td>525.627500</td>\n",
       "      <td>2018.000000</td>\n",
       "      <td>0.000000</td>\n",
       "      <td>0.000000</td>\n",
       "      <td>0.000000</td>\n",
       "      <td>0.000000</td>\n",
       "      <td>0.000000</td>\n",
       "      <td>0.000000</td>\n",
       "      <td>...</td>\n",
       "      <td>0.000000</td>\n",
       "      <td>0.000000</td>\n",
       "      <td>0.000000</td>\n",
       "      <td>0.000000</td>\n",
       "      <td>0.000000</td>\n",
       "      <td>1.000000</td>\n",
       "      <td>0.000000</td>\n",
       "      <td>0.000000</td>\n",
       "      <td>1.000000</td>\n",
       "      <td>1.0</td>\n",
       "    </tr>\n",
       "    <tr>\n",
       "      <th>max</th>\n",
       "      <td>2500.000000</td>\n",
       "      <td>0.350000</td>\n",
       "      <td>1120.950000</td>\n",
       "      <td>2018.000000</td>\n",
       "      <td>1.000000</td>\n",
       "      <td>1.000000</td>\n",
       "      <td>1.000000</td>\n",
       "      <td>1.000000</td>\n",
       "      <td>1.000000</td>\n",
       "      <td>1.000000</td>\n",
       "      <td>...</td>\n",
       "      <td>1.000000</td>\n",
       "      <td>1.000000</td>\n",
       "      <td>1.000000</td>\n",
       "      <td>1.000000</td>\n",
       "      <td>1.000000</td>\n",
       "      <td>1.000000</td>\n",
       "      <td>1.000000</td>\n",
       "      <td>1.000000</td>\n",
       "      <td>1.000000</td>\n",
       "      <td>1.0</td>\n",
       "    </tr>\n",
       "  </tbody>\n",
       "</table>\n",
       "<p>8 rows × 114 columns</p>\n",
       "</div>"
      ],
      "text/plain": [
       "             Sales     Discount       Profit         Year  \\\n",
       "count  9994.000000  9994.000000  9994.000000  9994.000000   \n",
       "mean   1496.596158     0.226817   374.937082  2016.722233   \n",
       "std     577.559036     0.074636   239.932881     1.123555   \n",
       "min     500.000000     0.100000    25.250000  2015.000000   \n",
       "25%    1000.000000     0.160000   180.022500  2016.000000   \n",
       "50%    1498.000000     0.230000   320.780000  2017.000000   \n",
       "75%    1994.750000     0.290000   525.627500  2018.000000   \n",
       "max    2500.000000     0.350000  1120.950000  2018.000000   \n",
       "\n",
       "       Customer Name_Adavan  Customer Name_Aditi  Customer Name_Akash  \\\n",
       "count           9994.000000          9994.000000          9994.000000   \n",
       "mean               0.020512             0.018711             0.019612   \n",
       "std                0.141752             0.135510             0.138669   \n",
       "min                0.000000             0.000000             0.000000   \n",
       "25%                0.000000             0.000000             0.000000   \n",
       "50%                0.000000             0.000000             0.000000   \n",
       "75%                0.000000             0.000000             0.000000   \n",
       "max                1.000000             1.000000             1.000000   \n",
       "\n",
       "       Customer Name_Alan  Customer Name_Amrish  Customer Name_Amy  ...  \\\n",
       "count         9994.000000           9994.000000        9994.000000  ...   \n",
       "mean             0.019812              0.022714           0.019612  ...   \n",
       "std              0.139360              0.148996           0.138669  ...   \n",
       "min              0.000000              0.000000           0.000000  ...   \n",
       "25%              0.000000              0.000000           0.000000  ...   \n",
       "50%              0.000000              0.000000           0.000000  ...   \n",
       "75%              0.000000              0.000000           0.000000  ...   \n",
       "max              1.000000              1.000000           1.000000  ...   \n",
       "\n",
       "       City_Trichy  City_Vellore  City_Viluppuram  City_Virudhunagar  \\\n",
       "count  9994.000000   9994.000000      9994.000000        9994.000000   \n",
       "mean      0.035721      0.043526         0.039724           0.041625   \n",
       "std       0.185604      0.204048         0.195319           0.199741   \n",
       "min       0.000000      0.000000         0.000000           0.000000   \n",
       "25%       0.000000      0.000000         0.000000           0.000000   \n",
       "50%       0.000000      0.000000         0.000000           0.000000   \n",
       "75%       0.000000      0.000000         0.000000           0.000000   \n",
       "max       1.000000      1.000000         1.000000           1.000000   \n",
       "\n",
       "       Region_Central  Region_East  Region_North  Region_South  Region_West  \\\n",
       "count     9994.000000  9994.000000   9994.000000   9994.000000  9994.000000   \n",
       "mean         0.232439     0.284971      0.000100      0.161997     0.320492   \n",
       "std          0.422409     0.451423      0.010003      0.368467     0.466689   \n",
       "min          0.000000     0.000000      0.000000      0.000000     0.000000   \n",
       "25%          0.000000     0.000000      0.000000      0.000000     0.000000   \n",
       "50%          0.000000     0.000000      0.000000      0.000000     0.000000   \n",
       "75%          0.000000     1.000000      0.000000      0.000000     1.000000   \n",
       "max          1.000000     1.000000      1.000000      1.000000     1.000000   \n",
       "\n",
       "       State_Tamil Nadu  \n",
       "count            9994.0  \n",
       "mean                1.0  \n",
       "std                 0.0  \n",
       "min                 1.0  \n",
       "25%                 1.0  \n",
       "50%                 1.0  \n",
       "75%                 1.0  \n",
       "max                 1.0  \n",
       "\n",
       "[8 rows x 114 columns]"
      ]
     },
     "execution_count": 220,
     "metadata": {},
     "output_type": "execute_result"
    }
   ],
   "source": [
    "df.describe()"
   ]
  },
  {
   "cell_type": "code",
   "execution_count": 221,
   "metadata": {},
   "outputs": [
    {
     "name": "stdout",
     "output_type": "stream",
     "text": [
      "\n",
      "number of different stocks:  114\n",
      "['Customer Name_Malik', 'Customer Name_Muneer', 'Customer Name_Shree', 'City_Pudukottai', 'Customer Name_Haseena', 'Customer Name_Ridhesh', 'Sub Category_Edible Oil & Ghee', 'Sub Category_Soft Drinks', 'Sub Category_Rice', 'Customer Name_Sheeba']\n"
     ]
    }
   ],
   "source": [
    "print('\\nnumber of different stocks: ', len(list(set(df))))\n",
    "print(list(set(df))[:10])"
   ]
  },
  {
   "cell_type": "code",
   "execution_count": 222,
   "metadata": {},
   "outputs": [
    {
     "name": "stdout",
     "output_type": "stream",
     "text": [
      "<class 'pandas.core.frame.DataFrame'>\n",
      "RangeIndex: 9994 entries, 0 to 9993\n",
      "Columns: 114 entries, Sales to State_Tamil Nadu\n",
      "dtypes: float64(2), int64(2), uint8(110)\n",
      "memory usage: 1.4 MB\n"
     ]
    }
   ],
   "source": [
    "df.info()"
   ]
  },
  {
   "cell_type": "code",
   "execution_count": 223,
   "metadata": {},
   "outputs": [],
   "source": [
    "from sklearn.model_selection import train_test_split"
   ]
  },
  {
   "cell_type": "code",
   "execution_count": 224,
   "metadata": {},
   "outputs": [],
   "source": [
    "x =df.drop(\"Region_West\", axis=1)\n",
    "y = df['Region_West']"
   ]
  },
  {
   "cell_type": "code",
   "execution_count": 225,
   "metadata": {},
   "outputs": [],
   "source": [
    "x_train, x_test, y_train, y_test=train_test_split(x, y, test_size = 0.3, random_state = 42)"
   ]
  },
  {
   "cell_type": "code",
   "execution_count": 226,
   "metadata": {},
   "outputs": [
    {
     "name": "stderr",
     "output_type": "stream",
     "text": [
      "C:\\Users\\bayui\\Anaconda3\\lib\\site-packages\\sklearn\\linear_model\\_logistic.py:762: ConvergenceWarning: lbfgs failed to converge (status=1):\n",
      "STOP: TOTAL NO. of ITERATIONS REACHED LIMIT.\n",
      "\n",
      "Increase the number of iterations (max_iter) or scale the data as shown in:\n",
      "    https://scikit-learn.org/stable/modules/preprocessing.html\n",
      "Please also refer to the documentation for alternative solver options:\n",
      "    https://scikit-learn.org/stable/modules/linear_model.html#logistic-regression\n",
      "  n_iter_i = _check_optimize_result(\n"
     ]
    },
    {
     "data": {
      "text/plain": [
       "LogisticRegression()"
      ]
     },
     "execution_count": 226,
     "metadata": {},
     "output_type": "execute_result"
    }
   ],
   "source": [
    "from sklearn import linear_model\n",
    "\n",
    "#train model dengan fungsi fit\n",
    "model = linear_model.LogisticRegression()\n",
    "model.fit(x_train, y_train)"
   ]
  },
  {
   "cell_type": "code",
   "execution_count": 227,
   "metadata": {},
   "outputs": [
    {
     "data": {
      "text/plain": [
       "0.9996665555185061"
      ]
     },
     "execution_count": 227,
     "metadata": {},
     "output_type": "execute_result"
    }
   ],
   "source": [
    "#uji akurasi model\n",
    "model.score(x_test, y_test)"
   ]
  },
  {
   "cell_type": "code",
   "execution_count": null,
   "metadata": {},
   "outputs": [],
   "source": []
  }
 ],
 "metadata": {
  "colab": {
   "authorship_tag": "ABX9TyOQpHStq4rwfnL/CWG+4psE",
   "collapsed_sections": [],
   "name": "Minmax.ipynb",
   "provenance": []
  },
  "kernelspec": {
   "display_name": "Python 3",
   "language": "python",
   "name": "python3"
  },
  "language_info": {
   "codemirror_mode": {
    "name": "ipython",
    "version": 3
   },
   "file_extension": ".py",
   "mimetype": "text/x-python",
   "name": "python",
   "nbconvert_exporter": "python",
   "pygments_lexer": "ipython3",
   "version": "3.8.3"
  }
 },
 "nbformat": 4,
 "nbformat_minor": 1
}
